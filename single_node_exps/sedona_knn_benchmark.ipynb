{
  "nbformat": 4,
  "nbformat_minor": 0,
  "metadata": {
    "colab": {
      "provenance": []
    },
    "kernelspec": {
      "name": "python3",
      "display_name": "Python 3"
    },
    "language_info": {
      "name": "python"
    }
  },
  "cells": [
    {
      "cell_type": "code",
      "execution_count": 1,
      "metadata": {
        "colab": {
          "base_uri": "https://localhost:8080/"
        },
        "id": "OaBwJCFmdxkb",
        "outputId": "21516691-68c7-4c88-f5bb-b0b687b52c05"
      },
      "outputs": [
        {
          "output_type": "stream",
          "name": "stdout",
          "text": [
            "Looking in indexes: https://pypi.org/simple, https://us-python.pkg.dev/colab-wheels/public/simple/\n",
            "Collecting apache-sedona[spark]\n",
            "  Downloading apache_sedona-1.3.0-py3-none-any.whl (81 kB)\n",
            "\u001b[K     |████████████████████████████████| 81 kB 1.0 MB/s \n",
            "\u001b[?25hRequirement already satisfied: attrs in /usr/local/lib/python3.8/dist-packages (from apache-sedona[spark]) (22.1.0)\n",
            "Requirement already satisfied: shapely in /usr/local/lib/python3.8/dist-packages (from apache-sedona[spark]) (1.8.5.post1)\n",
            "Collecting pyspark>=2.3.0\n",
            "  Downloading pyspark-3.3.1.tar.gz (281.4 MB)\n",
            "\u001b[K     |████████████████████████████████| 281.4 MB 54 kB/s \n",
            "\u001b[?25hCollecting py4j==0.10.9.5\n",
            "  Downloading py4j-0.10.9.5-py2.py3-none-any.whl (199 kB)\n",
            "\u001b[K     |████████████████████████████████| 199 kB 98.9 MB/s \n",
            "\u001b[?25hBuilding wheels for collected packages: pyspark\n",
            "  Building wheel for pyspark (setup.py) ... \u001b[?25l\u001b[?25hdone\n",
            "  Created wheel for pyspark: filename=pyspark-3.3.1-py2.py3-none-any.whl size=281845512 sha256=06c9390c4bd29a2755b3a84724b08a3f785d2fac03f5245ac584b644908a2be1\n",
            "  Stored in directory: /root/.cache/pip/wheels/43/dc/11/ec201cd671da62fa9c5cc77078235e40722170ceba231d7598\n",
            "Successfully built pyspark\n",
            "Installing collected packages: py4j, pyspark, apache-sedona\n",
            "Successfully installed apache-sedona-1.3.0 py4j-0.10.9.5 pyspark-3.3.1\n"
          ]
        }
      ],
      "source": [
        "!pip install apache-sedona[spark]"
      ]
    },
    {
      "cell_type": "code",
      "source": [
        "from pyspark.sql import SparkSession\n",
        "\n",
        "from sedona.register import SedonaRegistrator\n",
        "from sedona.utils import SedonaKryoRegistrator, KryoSerializer\n",
        "\n",
        "spark = SparkSession. \\\n",
        "    builder. \\\n",
        "    appName('appName'). \\\n",
        "    config(\"spark.serializer\", KryoSerializer.getName). \\\n",
        "    config(\"spark.kryo.registrator\", SedonaKryoRegistrator.getName). \\\n",
        "    config('spark.jars.packages',\n",
        "           'org.apache.sedona:sedona-python-adapter-3.0_2.12:1.2.0-incubating,'\n",
        "           'org.datasyslab:geotools-wrapper:1.1.0-25.2'). \\\n",
        "    getOrCreate()\n",
        "\n",
        "SedonaRegistrator.registerAll(spark)"
      ],
      "metadata": {
        "colab": {
          "base_uri": "https://localhost:8080/"
        },
        "id": "yJc-kQjEd_JY",
        "outputId": "36cff6f6-54cf-4781-9e1a-68c0d91ece65"
      },
      "execution_count": 2,
      "outputs": [
        {
          "output_type": "execute_result",
          "data": {
            "text/plain": [
              "True"
            ]
          },
          "metadata": {},
          "execution_count": 2
        }
      ]
    },
    {
      "cell_type": "code",
      "source": [
        "from google.colab import drive\n",
        "drive.mount('/content/drive')"
      ],
      "metadata": {
        "colab": {
          "base_uri": "https://localhost:8080/"
        },
        "id": "-22Tram1eMn1",
        "outputId": "59bbc63c-3a3e-4928-8498-e59088ba8aa5"
      },
      "execution_count": 3,
      "outputs": [
        {
          "output_type": "stream",
          "name": "stdout",
          "text": [
            "Mounted at /content/drive\n"
          ]
        }
      ]
    },
    {
      "cell_type": "code",
      "source": [
        "DATA_PATH = '/content/drive/MyDrive/sedona_osm_data'"
      ],
      "metadata": {
        "id": "j7IMDF4GeOn5"
      },
      "execution_count": 5,
      "outputs": []
    },
    {
      "cell_type": "code",
      "source": [
        "sc = spark.sparkContext"
      ],
      "metadata": {
        "id": "5w4stAP4ePo5"
      },
      "execution_count": 6,
      "outputs": []
    },
    {
      "cell_type": "code",
      "source": [
        "from sedona.core.formatMapper import WktReader\n",
        "import csv, sys, pprint, hashlib\n",
        "from shapely import wkt\n",
        "import numpy as np"
      ],
      "metadata": {
        "id": "AM6FeCUxeXJd"
      },
      "execution_count": 7,
      "outputs": []
    },
    {
      "cell_type": "markdown",
      "source": [
        "## Points:"
      ],
      "metadata": {
        "id": "OT7ldt0D0Qr7"
      }
    },
    {
      "cell_type": "code",
      "source": [
        "points_rdd = WktReader.readToGeometryRDD(sc, DATA_PATH + '/all_points_100K.wkt', 1, True, False)"
      ],
      "metadata": {
        "id": "x5i68vKbkTIE"
      },
      "execution_count": 8,
      "outputs": []
    },
    {
      "cell_type": "code",
      "source": [
        "points_rdd"
      ],
      "metadata": {
        "colab": {
          "base_uri": "https://localhost:8080/"
        },
        "id": "5201SOAdl8dI",
        "outputId": "fe7bbabd-3de2-4c3a-cbb4-c7fa1aade75d"
      },
      "execution_count": null,
      "outputs": [
        {
          "output_type": "execute_result",
          "data": {
            "text/plain": [
              "<sedona.core.SpatialRDD.spatial_rdd.SpatialRDD at 0x7f9625ddb460>"
            ]
          },
          "metadata": {},
          "execution_count": 36
        }
      ]
    },
    {
      "cell_type": "code",
      "source": [
        "from sedona.core.enums import GridType, IndexType\n",
        "from sedona.utils.adapter import Adapter\n",
        "\n",
        "points_rdd.analyze()"
      ],
      "metadata": {
        "colab": {
          "base_uri": "https://localhost:8080/"
        },
        "id": "bzFCuOqEj63H",
        "outputId": "440d5612-cbb0-47e0-9739-506d69ce4552"
      },
      "execution_count": null,
      "outputs": [
        {
          "output_type": "execute_result",
          "data": {
            "text/plain": [
              "True"
            ]
          },
          "metadata": {},
          "execution_count": 37
        }
      ]
    },
    {
      "cell_type": "code",
      "source": [
        "len = 100000"
      ],
      "metadata": {
        "id": "s3ypvXaYmPSW"
      },
      "execution_count": null,
      "outputs": []
    },
    {
      "cell_type": "code",
      "source": [
        "coords = [73.512247, 4.083805]"
      ],
      "metadata": {
        "id": "x1M9N7KJr5SS"
      },
      "execution_count": null,
      "outputs": []
    },
    {
      "cell_type": "code",
      "source": [
        "points_rdd.spatialPartitioning(GridType.QUADTREE)"
      ],
      "metadata": {
        "colab": {
          "base_uri": "https://localhost:8080/"
        },
        "id": "XnYDRMUYmEMu",
        "outputId": "20f8ca07-f8f5-49b6-a7e2-32dc8add4bc1"
      },
      "execution_count": null,
      "outputs": [
        {
          "output_type": "execute_result",
          "data": {
            "text/plain": [
              "True"
            ]
          },
          "metadata": {},
          "execution_count": 42
        }
      ]
    },
    {
      "cell_type": "code",
      "source": [
        "from sedona.core.spatialOperator import KNNQuery\n",
        "from shapely.geometry import Polygon, Point\n",
        "import time\n",
        "\n",
        "point = Point(coords)\n",
        "\n",
        "for i in range(2):\n",
        "  using_index = False\n",
        "  if i == 1:\n",
        "    # using R-tree index\n",
        "    print(\"'R-tree index'\")\n",
        "    using_index = True\n",
        "\n",
        "    build_on_spatial_partitioned_rdd = False ## Set to TRUE only if run join query\n",
        "    points_rdd.buildIndex(IndexType.RTREE, build_on_spatial_partitioned_rdd)\n",
        "  else:\n",
        "    print(\"'No index'\")\n",
        "\n",
        "  k_vals = [ 1, 5, 10, 20, 30, 50, 100, 500, 1000, 5000, 10000, 20000, 30000, 50000, 75000 ]\n",
        "\n",
        "  print(\"'k,time(s)'\")\n",
        "  for k in k_vals:\n",
        "    if k <= len:\n",
        "      s = time.time()\n",
        "      result = KNNQuery.SpatialKnnQuery(points_rdd, point, k, using_index)\n",
        "      # print(result)\n",
        "      d = time.time() - s\n",
        "      print(\"'\" + str(k) + \",\" + str(round(d, 3)) + \"'\")\n"
      ],
      "metadata": {
        "id": "M6v-Z2Zmfvul",
        "colab": {
          "base_uri": "https://localhost:8080/"
        },
        "outputId": "1d901cdf-b4d1-420f-cce7-c572924e3209"
      },
      "execution_count": null,
      "outputs": [
        {
          "output_type": "stream",
          "name": "stdout",
          "text": [
            "'No index'\n",
            "'k,time(s)'\n",
            "'1,0.213'\n",
            "'5,0.291'\n",
            "'10,0.248'\n",
            "'20,0.197'\n",
            "'30,0.197'\n",
            "'50,0.21'\n",
            "'100,0.273'\n",
            "'500,0.297'\n",
            "'1000,0.436'\n",
            "'5000,1.636'\n",
            "'10000,2.736'\n",
            "'20000,5.37'\n",
            "'30000,7.999'\n",
            "'50000,12.769'\n",
            "'75000,12.777'\n",
            "'R-tree index'\n",
            "'k,time(s)'\n",
            "'1,1.144'\n",
            "'5,0.274'\n",
            "'10,0.255'\n",
            "'20,0.281'\n",
            "'30,0.224'\n",
            "'50,0.238'\n",
            "'100,0.257'\n",
            "'500,0.344'\n",
            "'1000,0.434'\n",
            "'5000,1.405'\n",
            "'10000,2.929'\n",
            "'20000,5.229'\n",
            "'30000,7.361'\n",
            "'50000,12.443'\n",
            "'75000,18.052'\n"
          ]
        }
      ]
    },
    {
      "cell_type": "code",
      "source": [
        "# polygons_nearby[0].geom.wkt"
      ],
      "metadata": {
        "id": "_EEbzTsdtgIx",
        "outputId": "ddb8230e-3ec6-4f41-ff89-2830f29e37a0",
        "colab": {
          "base_uri": "https://localhost:8080/",
          "height": 35
        }
      },
      "execution_count": null,
      "outputs": [
        {
          "output_type": "execute_result",
          "data": {
            "text/plain": [
              "'POINT (73.512247 4.083805)'"
            ],
            "application/vnd.google.colaboratory.intrinsic+json": {
              "type": "string"
            }
          },
          "metadata": {},
          "execution_count": 18
        }
      ]
    },
    {
      "cell_type": "markdown",
      "source": [
        "## Polygons:"
      ],
      "metadata": {
        "id": "XRuNWN_b0VWF"
      }
    },
    {
      "cell_type": "code",
      "source": [
        "polygon_rdd = WktReader.readToGeometryRDD(sc, DATA_PATH + '/all_source_10K.wkt', 1, True, False)"
      ],
      "metadata": {
        "id": "pmaUA9o50Xvz"
      },
      "execution_count": 9,
      "outputs": []
    },
    {
      "cell_type": "code",
      "source": [
        "polygon_rdd"
      ],
      "metadata": {
        "colab": {
          "base_uri": "https://localhost:8080/"
        },
        "id": "lWfvQQd00hrC",
        "outputId": "5ba7345a-d9e2-4ada-cf28-06db80a5267b"
      },
      "execution_count": 10,
      "outputs": [
        {
          "output_type": "execute_result",
          "data": {
            "text/plain": [
              "<sedona.core.SpatialRDD.spatial_rdd.SpatialRDD at 0x7f5be791f760>"
            ]
          },
          "metadata": {},
          "execution_count": 10
        }
      ]
    },
    {
      "cell_type": "code",
      "source": [
        "from sedona.core.enums import GridType, IndexType\n",
        "from sedona.utils.adapter import Adapter\n",
        "\n",
        "polygon_rdd.analyze()"
      ],
      "metadata": {
        "colab": {
          "base_uri": "https://localhost:8080/"
        },
        "id": "rMUh_dmz0hyZ",
        "outputId": "95824f72-9932-479d-9c62-6fcffd6ec625"
      },
      "execution_count": 11,
      "outputs": [
        {
          "output_type": "execute_result",
          "data": {
            "text/plain": [
              "True"
            ]
          },
          "metadata": {},
          "execution_count": 11
        }
      ]
    },
    {
      "cell_type": "code",
      "source": [
        "len = 10000"
      ],
      "metadata": {
        "id": "ittOVPqn0nww"
      },
      "execution_count": 12,
      "outputs": []
    },
    {
      "cell_type": "code",
      "source": [
        "polygon = open(DATA_PATH + \"/knn_polygon.tsv\", \"r\").read()\n",
        "shape = wkt.loads(polygon)\n",
        "coords = np.dstack(shape.boundary.xy).tolist()[0][:-1]"
      ],
      "metadata": {
        "id": "jcdzr_8A0sI_"
      },
      "execution_count": 13,
      "outputs": []
    },
    {
      "cell_type": "code",
      "source": [
        "polygon_rdd.spatialPartitioning(GridType.QUADTREE)"
      ],
      "metadata": {
        "colab": {
          "base_uri": "https://localhost:8080/"
        },
        "id": "raSSgdNe0sRz",
        "outputId": "305d030c-d552-4abc-e47f-7140a8585a92"
      },
      "execution_count": 14,
      "outputs": [
        {
          "output_type": "execute_result",
          "data": {
            "text/plain": [
              "True"
            ]
          },
          "metadata": {},
          "execution_count": 14
        }
      ]
    },
    {
      "cell_type": "code",
      "source": [
        "from sedona.core.spatialOperator import KNNQuery\n",
        "from shapely.geometry import Polygon, Point\n",
        "import time\n",
        "\n",
        "polygon = Polygon(coords)\n",
        "\n",
        "for i in range(0, 2):\n",
        "  using_index = False\n",
        "  if i == 1:\n",
        "    # using R-tree index\n",
        "    print(\"'R-tree index'\")\n",
        "    using_index = True\n",
        "\n",
        "    build_on_spatial_partitioned_rdd = False ## Set to TRUE only if run join query\n",
        "    polygon_rdd.buildIndex(IndexType.RTREE, build_on_spatial_partitioned_rdd)\n",
        "  else:\n",
        "    print(\"'No index'\")\n",
        "\n",
        "  k_vals = [ 1000 ]\n",
        "\n",
        "  print(\"'k,time(s)'\")\n",
        "  for k in k_vals:\n",
        "    if k <= len:\n",
        "      s = time.time()\n",
        "      result = KNNQuery.SpatialKnnQuery(polygon_rdd, polygon, k, using_index)\n",
        "      d = time.time() - s\n",
        "      print(\"'\" + str(k) + \",\" + str(round(d, 3)) + \"'\")\n"
      ],
      "metadata": {
        "colab": {
          "base_uri": "https://localhost:8080/"
        },
        "id": "c-b6vnpA1-un",
        "outputId": "69b88a2a-05ce-4730-f484-2d8f0484bb90"
      },
      "execution_count": 15,
      "outputs": [
        {
          "output_type": "stream",
          "name": "stdout",
          "text": [
            "'No index'\n",
            "'k,time(s)'\n",
            "'1000,858.343'\n",
            "'R-tree index'\n",
            "'k,time(s)'\n",
            "'1000,635.147'\n"
          ]
        }
      ]
    }
  ]
}