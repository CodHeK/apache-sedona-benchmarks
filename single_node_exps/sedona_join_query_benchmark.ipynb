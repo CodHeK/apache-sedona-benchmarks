{
  "nbformat": 4,
  "nbformat_minor": 0,
  "metadata": {
    "colab": {
      "provenance": []
    },
    "kernelspec": {
      "name": "python3",
      "display_name": "Python 3"
    },
    "language_info": {
      "name": "python"
    }
  },
  "cells": [
    {
      "cell_type": "code",
      "execution_count": 1,
      "metadata": {
        "colab": {
          "base_uri": "https://localhost:8080/"
        },
        "id": "CNacma3PirBX",
        "outputId": "f4a93b04-c7c6-4fca-afed-e10a57eb9469"
      },
      "outputs": [
        {
          "output_type": "stream",
          "name": "stdout",
          "text": [
            "Looking in indexes: https://pypi.org/simple, https://us-python.pkg.dev/colab-wheels/public/simple/\n",
            "Collecting apache-sedona[spark]\n",
            "  Downloading apache_sedona-1.3.0-py3-none-any.whl (81 kB)\n",
            "\u001b[K     |████████████████████████████████| 81 kB 1.5 MB/s \n",
            "\u001b[?25hRequirement already satisfied: attrs in /usr/local/lib/python3.8/dist-packages (from apache-sedona[spark]) (22.1.0)\n",
            "Requirement already satisfied: shapely in /usr/local/lib/python3.8/dist-packages (from apache-sedona[spark]) (1.8.5.post1)\n",
            "Collecting pyspark>=2.3.0\n",
            "  Downloading pyspark-3.3.1.tar.gz (281.4 MB)\n",
            "\u001b[K     |████████████████████████████████| 281.4 MB 42 kB/s \n",
            "\u001b[?25hCollecting py4j==0.10.9.5\n",
            "  Downloading py4j-0.10.9.5-py2.py3-none-any.whl (199 kB)\n",
            "\u001b[K     |████████████████████████████████| 199 kB 59.4 MB/s \n",
            "\u001b[?25hBuilding wheels for collected packages: pyspark\n",
            "  Building wheel for pyspark (setup.py) ... \u001b[?25l\u001b[?25hdone\n",
            "  Created wheel for pyspark: filename=pyspark-3.3.1-py2.py3-none-any.whl size=281845512 sha256=fb967643e9fbaaaeb42805299d8b8bd69c0ade603b209102e1f3379ec82a34aa\n",
            "  Stored in directory: /root/.cache/pip/wheels/43/dc/11/ec201cd671da62fa9c5cc77078235e40722170ceba231d7598\n",
            "Successfully built pyspark\n",
            "Installing collected packages: py4j, pyspark, apache-sedona\n",
            "Successfully installed apache-sedona-1.3.0 py4j-0.10.9.5 pyspark-3.3.1\n"
          ]
        }
      ],
      "source": [
        "!pip install apache-sedona[spark]"
      ]
    },
    {
      "cell_type": "code",
      "source": [
        "from pyspark.sql import SparkSession\n",
        "\n",
        "from sedona.register import SedonaRegistrator\n",
        "from sedona.utils import SedonaKryoRegistrator, KryoSerializer\n",
        "\n",
        "spark = SparkSession. \\\n",
        "    builder. \\\n",
        "    appName('appName'). \\\n",
        "    config(\"spark.serializer\", KryoSerializer.getName). \\\n",
        "    config(\"spark.kryo.registrator\", SedonaKryoRegistrator.getName). \\\n",
        "    config('spark.jars.packages',\n",
        "           'org.apache.sedona:sedona-python-adapter-3.0_2.12:1.2.0-incubating,'\n",
        "           'org.datasyslab:geotools-wrapper:1.1.0-25.2'). \\\n",
        "    getOrCreate()\n",
        "\n",
        "SedonaRegistrator.registerAll(spark)"
      ],
      "metadata": {
        "id": "iWPFXXYAivGt",
        "colab": {
          "base_uri": "https://localhost:8080/"
        },
        "outputId": "6cdcf519-e980-412f-b8a3-b29a35566144"
      },
      "execution_count": 2,
      "outputs": [
        {
          "output_type": "execute_result",
          "data": {
            "text/plain": [
              "True"
            ]
          },
          "metadata": {},
          "execution_count": 2
        }
      ]
    },
    {
      "cell_type": "code",
      "source": [
        "from google.colab import drive\n",
        "drive.mount('/content/drive')"
      ],
      "metadata": {
        "id": "So5VKRtFi0_O",
        "colab": {
          "base_uri": "https://localhost:8080/"
        },
        "outputId": "73979039-4c85-4b1e-a82e-f1899b688058"
      },
      "execution_count": 3,
      "outputs": [
        {
          "output_type": "stream",
          "name": "stdout",
          "text": [
            "Mounted at /content/drive\n"
          ]
        }
      ]
    },
    {
      "cell_type": "code",
      "source": [
        "DATA_PATH = '/content/drive/MyDrive/sedona_osm_data'"
      ],
      "metadata": {
        "id": "qE0ke51BjHjm"
      },
      "execution_count": 4,
      "outputs": []
    },
    {
      "cell_type": "code",
      "source": [
        "sc = spark.sparkContext"
      ],
      "metadata": {
        "id": "IGF71i0hjJzL"
      },
      "execution_count": 5,
      "outputs": []
    },
    {
      "cell_type": "code",
      "source": [
        "from sedona.core.formatMapper import WktReader\n",
        "import csv, sys, pprint, hashlib\n",
        "from shapely import wkt\n",
        "import numpy as np"
      ],
      "metadata": {
        "id": "Q9CSAZ-NjKtE"
      },
      "execution_count": 6,
      "outputs": []
    },
    {
      "cell_type": "markdown",
      "source": [
        "### Points"
      ],
      "metadata": {
        "id": "kFraf0SCjNrC"
      }
    },
    {
      "cell_type": "code",
      "source": [
        "points_rdd = WktReader.readToGeometryRDD(sc, DATA_PATH + '/all_points_1K.wkt', 1, True, False)\n",
        "polygon_rdd = WktReader.readToGeometryRDD(sc, DATA_PATH + '/all_source_1K.wkt', 1, True, False)"
      ],
      "metadata": {
        "id": "zOwYYBU7jRGw"
      },
      "execution_count": 7,
      "outputs": []
    },
    {
      "cell_type": "code",
      "source": [
        "points_rdd\n",
        "polygon_rdd"
      ],
      "metadata": {
        "id": "o201QugEjU9J",
        "colab": {
          "base_uri": "https://localhost:8080/"
        },
        "outputId": "cbe74a32-8434-467b-add5-4a12be7fe89f"
      },
      "execution_count": 8,
      "outputs": [
        {
          "output_type": "execute_result",
          "data": {
            "text/plain": [
              "<sedona.core.SpatialRDD.spatial_rdd.SpatialRDD at 0x7f59172378e0>"
            ]
          },
          "metadata": {},
          "execution_count": 8
        }
      ]
    },
    {
      "cell_type": "code",
      "source": [
        "len = 1000"
      ],
      "metadata": {
        "id": "Gu3n3zeIdPbT"
      },
      "execution_count": 9,
      "outputs": []
    },
    {
      "cell_type": "code",
      "source": [
        "from sedona.core.enums import GridType, IndexType\n",
        "from sedona.utils.adapter import Adapter\n",
        "\n",
        "points_rdd.analyze()\n",
        "polygon_rdd.analyze()"
      ],
      "metadata": {
        "id": "Q7xfqsILjWdc",
        "colab": {
          "base_uri": "https://localhost:8080/"
        },
        "outputId": "e11da677-90a3-413e-d8c1-14cad83566a8"
      },
      "execution_count": 10,
      "outputs": [
        {
          "output_type": "execute_result",
          "data": {
            "text/plain": [
              "True"
            ]
          },
          "metadata": {},
          "execution_count": 10
        }
      ]
    },
    {
      "cell_type": "code",
      "source": [
        "points_rdd.spatialPartitioning(GridType.QUADTREE)\n",
        "polygon_rdd.spatialPartitioning(points_rdd.getPartitioner())"
      ],
      "metadata": {
        "id": "05cvmJ7Fjhrc"
      },
      "execution_count": 11,
      "outputs": []
    },
    {
      "cell_type": "code",
      "source": [
        "import time\n",
        "from sedona.core.spatialOperator import JoinQuery\n",
        "\n",
        "for i in range(3):\n",
        "  if i == 0:\n",
        "    print(\"'No Index'\")\n",
        "    using_index = False\n",
        "  elif i == 1:\n",
        "    print(\"'R-Tree Index'\")\n",
        "    # using R-tree index\n",
        "    using_index = True\n",
        "\n",
        "    build_on_spatial_partitioned_rdd = True ## Set to TRUE only if run join query\n",
        "    polygon_rdd.buildIndex(IndexType.RTREE, build_on_spatial_partitioned_rdd)\n",
        "  elif i == 2:\n",
        "    print(\"'Quad-Tree Index'\")\n",
        "    # using Quad-tree index\n",
        "    using_index = True\n",
        "\n",
        "    build_on_spatial_partitioned_rdd = True ## Set to TRUE only if run join query\n",
        "    polygon_rdd.buildIndex(IndexType.QUADTREE, build_on_spatial_partitioned_rdd)\n",
        "\n",
        "\n",
        "  print(\"'n,time(s)'\")\n",
        "  s = time.time()\n",
        "  result = JoinQuery.SpatialJoinQuery(points_rdd, polygon_rdd, True, using_index)\n",
        "  result.count()\n",
        "  d = time.time() - s\n",
        "  print(\"'\" + str(len) + \",\" + str(round(d, 3)) + \"'\")"
      ],
      "metadata": {
        "id": "CrJ6t3cDjkZG",
        "colab": {
          "base_uri": "https://localhost:8080/"
        },
        "outputId": "68b5727f-0c14-4143-dd27-fc6c38c4e8ba"
      },
      "execution_count": 12,
      "outputs": [
        {
          "output_type": "stream",
          "name": "stdout",
          "text": [
            "'No Index'\n",
            "'n,time(s)'\n",
            "'1000,8.519'\n",
            "'R-Tree Index'\n",
            "'n,time(s)'\n",
            "'1000,2.435'\n",
            "'Quad-Tree Index'\n",
            "'n,time(s)'\n",
            "'1000,2.85'\n"
          ]
        }
      ]
    }
  ]
}