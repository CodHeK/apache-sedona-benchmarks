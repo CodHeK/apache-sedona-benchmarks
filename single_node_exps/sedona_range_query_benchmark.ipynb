{
  "nbformat": 4,
  "nbformat_minor": 0,
  "metadata": {
    "colab": {
      "provenance": []
    },
    "kernelspec": {
      "name": "python3",
      "display_name": "Python 3"
    },
    "language_info": {
      "name": "python"
    }
  },
  "cells": [
    {
      "cell_type": "code",
      "execution_count": 2,
      "metadata": {
        "colab": {
          "base_uri": "https://localhost:8080/"
        },
        "id": "CNacma3PirBX",
        "outputId": "65702776-3b0a-491a-9f7e-2e7b4968cc80"
      },
      "outputs": [
        {
          "output_type": "stream",
          "name": "stdout",
          "text": [
            "Looking in indexes: https://pypi.org/simple, https://us-python.pkg.dev/colab-wheels/public/simple/\n",
            "Requirement already satisfied: apache-sedona[spark] in /usr/local/lib/python3.8/dist-packages (1.3.0)\n",
            "Requirement already satisfied: shapely in /usr/local/lib/python3.8/dist-packages (from apache-sedona[spark]) (1.8.5.post1)\n",
            "Requirement already satisfied: attrs in /usr/local/lib/python3.8/dist-packages (from apache-sedona[spark]) (22.1.0)\n",
            "Requirement already satisfied: pyspark>=2.3.0 in /usr/local/lib/python3.8/dist-packages (from apache-sedona[spark]) (3.3.1)\n",
            "Requirement already satisfied: py4j==0.10.9.5 in /usr/local/lib/python3.8/dist-packages (from pyspark>=2.3.0->apache-sedona[spark]) (0.10.9.5)\n",
            "\u001b[31mERROR: Operation cancelled by user\u001b[0m\n",
            "Traceback (most recent call last):\n",
            "  File \"/usr/local/lib/python3.8/dist-packages/pip/_vendor/pkg_resources/__init__.py\", line 3021, in _dep_map\n",
            "    return self.__dep_map\n",
            "  File \"/usr/local/lib/python3.8/dist-packages/pip/_vendor/pkg_resources/__init__.py\", line 2815, in __getattr__\n",
            "    raise AttributeError(attr)\n",
            "AttributeError: _DistInfoDistribution__dep_map\n",
            "\n",
            "During handling of the above exception, another exception occurred:\n",
            "\n",
            "Traceback (most recent call last):\n",
            "  File \"/usr/local/lib/python3.8/dist-packages/pip/_internal/cli/base_command.py\", line 180, in _main\n",
            "    status = self.run(options, args)\n",
            "  File \"/usr/local/lib/python3.8/dist-packages/pip/_internal/cli/req_command.py\", line 199, in wrapper\n",
            "    return func(self, options, args)\n",
            "  File \"/usr/local/lib/python3.8/dist-packages/pip/_internal/commands/install.py\", line 385, in run\n",
            "    conflicts = self._determine_conflicts(to_install)\n",
            "  File \"/usr/local/lib/python3.8/dist-packages/pip/_internal/commands/install.py\", line 515, in _determine_conflicts\n",
            "    return check_install_conflicts(to_install)\n",
            "  File \"/usr/local/lib/python3.8/dist-packages/pip/_internal/operations/check.py\", line 103, in check_install_conflicts\n",
            "    package_set, _ = create_package_set_from_installed()\n",
            "  File \"/usr/local/lib/python3.8/dist-packages/pip/_internal/operations/check.py\", line 45, in create_package_set_from_installed\n",
            "    package_set[name] = PackageDetails(dist.version, dist.requires())\n",
            "  File \"/usr/local/lib/python3.8/dist-packages/pip/_vendor/pkg_resources/__init__.py\", line 2736, in requires\n",
            "    dm = self._dep_map\n",
            "  File \"/usr/local/lib/python3.8/dist-packages/pip/_vendor/pkg_resources/__init__.py\", line 3023, in _dep_map\n",
            "    self.__dep_map = self._compute_dependencies()\n",
            "  File \"/usr/local/lib/python3.8/dist-packages/pip/_vendor/pkg_resources/__init__.py\", line 3033, in _compute_dependencies\n",
            "    reqs.extend(parse_requirements(req))\n",
            "  File \"/usr/local/lib/python3.8/dist-packages/pip/_vendor/pkg_resources/__init__.py\", line 3094, in parse_requirements\n",
            "    yield Requirement(line)\n",
            "  File \"/usr/local/lib/python3.8/dist-packages/pip/_vendor/pkg_resources/__init__.py\", line 3101, in __init__\n",
            "    super(Requirement, self).__init__(requirement_string)\n",
            "  File \"/usr/local/lib/python3.8/dist-packages/pip/_vendor/packaging/requirements.py\", line 113, in __init__\n",
            "    req = REQUIREMENT.parseString(requirement_string)\n",
            "  File \"/usr/local/lib/python3.8/dist-packages/pip/_vendor/pyparsing.py\", line 1943, in parseString\n",
            "    loc, tokens = self._parse(instring, 0)\n",
            "  File \"/usr/local/lib/python3.8/dist-packages/pip/_vendor/pyparsing.py\", line 1683, in _parseNoCache\n",
            "    loc, tokens = self.parseImpl(instring, preloc, doActions)\n",
            "  File \"/usr/local/lib/python3.8/dist-packages/pip/_vendor/pyparsing.py\", line 4069, in parseImpl\n",
            "    loc, exprtokens = e._parse(instring, loc, doActions)\n",
            "  File \"/usr/local/lib/python3.8/dist-packages/pip/_vendor/pyparsing.py\", line 1683, in _parseNoCache\n",
            "    loc, tokens = self.parseImpl(instring, preloc, doActions)\n",
            "  File \"/usr/local/lib/python3.8/dist-packages/pip/_vendor/pyparsing.py\", line 4254, in parseImpl\n",
            "    ret = e._parse(instring, loc, doActions)\n",
            "  File \"/usr/local/lib/python3.8/dist-packages/pip/_vendor/pyparsing.py\", line 1683, in _parseNoCache\n",
            "    loc, tokens = self.parseImpl(instring, preloc, doActions)\n",
            "  File \"/usr/local/lib/python3.8/dist-packages/pip/_vendor/pyparsing.py\", line 4052, in parseImpl\n",
            "    loc, resultlist = self.exprs[0]._parse(instring, loc, doActions, callPreParse=False)\n",
            "  File \"/usr/local/lib/python3.8/dist-packages/pip/_vendor/pyparsing.py\", line 1683, in _parseNoCache\n",
            "    loc, tokens = self.parseImpl(instring, preloc, doActions)\n",
            "  File \"/usr/local/lib/python3.8/dist-packages/pip/_vendor/pyparsing.py\", line 4069, in parseImpl\n",
            "    loc, exprtokens = e._parse(instring, loc, doActions)\n",
            "  File \"/usr/local/lib/python3.8/dist-packages/pip/_vendor/pyparsing.py\", line 1714, in _parseNoCache\n",
            "    for fn in self.parseAction:\n",
            "KeyboardInterrupt\n",
            "\n",
            "During handling of the above exception, another exception occurred:\n",
            "\n",
            "Traceback (most recent call last):\n",
            "  File \"/usr/local/bin/pip3\", line 8, in <module>\n",
            "    sys.exit(main())\n",
            "  File \"/usr/local/lib/python3.8/dist-packages/pip/_internal/cli/main.py\", line 71, in main\n",
            "    return command.main(cmd_args)\n",
            "  File \"/usr/local/lib/python3.8/dist-packages/pip/_internal/cli/base_command.py\", line 104, in main\n",
            "    return self._main(args)\n",
            "  File \"/usr/local/lib/python3.8/dist-packages/pip/_internal/cli/base_command.py\", line 212, in _main\n",
            "    logger.critical(\"Operation cancelled by user\")\n",
            "  File \"/usr/lib/python3.8/logging/__init__.py\", line 1493, in critical\n",
            "    self._log(CRITICAL, msg, args, **kwargs)\n",
            "  File \"/usr/lib/python3.8/logging/__init__.py\", line 1589, in _log\n",
            "    self.handle(record)\n",
            "  File \"/usr/lib/python3.8/logging/__init__.py\", line 1599, in handle\n",
            "    self.callHandlers(record)\n",
            "  File \"/usr/lib/python3.8/logging/__init__.py\", line 1661, in callHandlers\n",
            "    hdlr.handle(record)\n",
            "  File \"/usr/lib/python3.8/logging/__init__.py\", line 954, in handle\n",
            "    self.emit(record)\n",
            "  File \"/usr/lib/python3.8/logging/handlers.py\", line 71, in emit\n",
            "    logging.FileHandler.emit(self, record)\n",
            "  File \"/usr/lib/python3.8/logging/__init__.py\", line 1187, in emit\n",
            "    StreamHandler.emit(self, record)\n",
            "  File \"/usr/lib/python3.8/logging/__init__.py\", line 1089, in emit\n",
            "    self.flush()\n",
            "  File \"/usr/lib/python3.8/logging/__init__.py\", line 1069, in flush\n",
            "    self.stream.flush()\n",
            "KeyboardInterrupt\n",
            "^C\n"
          ]
        }
      ],
      "source": [
        "!pip install apache-sedona[spark]"
      ]
    },
    {
      "cell_type": "code",
      "source": [
        "from pyspark.sql import SparkSession\n",
        "\n",
        "from sedona.register import SedonaRegistrator\n",
        "from sedona.utils import SedonaKryoRegistrator, KryoSerializer\n",
        "\n",
        "spark = SparkSession. \\\n",
        "    builder. \\\n",
        "    appName('appName'). \\\n",
        "    config(\"spark.serializer\", KryoSerializer.getName). \\\n",
        "    config(\"spark.kryo.registrator\", SedonaKryoRegistrator.getName). \\\n",
        "    config('spark.jars.packages',\n",
        "           'org.apache.sedona:sedona-python-adapter-3.0_2.12:1.2.0-incubating,'\n",
        "           'org.datasyslab:geotools-wrapper:1.1.0-25.2'). \\\n",
        "    getOrCreate()\n",
        "\n",
        "SedonaRegistrator.registerAll(spark)"
      ],
      "metadata": {
        "colab": {
          "base_uri": "https://localhost:8080/"
        },
        "id": "iWPFXXYAivGt",
        "outputId": "476795a9-7075-4562-e9a1-4374cf055c92"
      },
      "execution_count": 3,
      "outputs": [
        {
          "output_type": "execute_result",
          "data": {
            "text/plain": [
              "True"
            ]
          },
          "metadata": {},
          "execution_count": 3
        }
      ]
    },
    {
      "cell_type": "code",
      "source": [
        "from google.colab import drive\n",
        "drive.mount('/content/drive')"
      ],
      "metadata": {
        "colab": {
          "base_uri": "https://localhost:8080/"
        },
        "id": "So5VKRtFi0_O",
        "outputId": "7ffedd97-c7fe-48b7-c80f-58f07485b777"
      },
      "execution_count": 4,
      "outputs": [
        {
          "output_type": "stream",
          "name": "stdout",
          "text": [
            "Mounted at /content/drive\n"
          ]
        }
      ]
    },
    {
      "cell_type": "code",
      "source": [
        "DATA_PATH = '/content/drive/MyDrive/sedona_osm_data'"
      ],
      "metadata": {
        "id": "qE0ke51BjHjm"
      },
      "execution_count": 5,
      "outputs": []
    },
    {
      "cell_type": "code",
      "source": [
        "sc = spark.sparkContext"
      ],
      "metadata": {
        "id": "IGF71i0hjJzL"
      },
      "execution_count": 6,
      "outputs": []
    },
    {
      "cell_type": "code",
      "source": [
        "from sedona.core.formatMapper import WktReader\n",
        "import csv, sys, pprint, hashlib\n",
        "from shapely import wkt\n",
        "import numpy as np"
      ],
      "metadata": {
        "id": "Q9CSAZ-NjKtE"
      },
      "execution_count": 7,
      "outputs": []
    },
    {
      "cell_type": "markdown",
      "source": [
        "### Points"
      ],
      "metadata": {
        "id": "kFraf0SCjNrC"
      }
    },
    {
      "cell_type": "code",
      "source": [
        "points_rdd = WktReader.readToGeometryRDD(sc, DATA_PATH + '/all_points_100K.wkt', 1, True, False)"
      ],
      "metadata": {
        "id": "zOwYYBU7jRGw"
      },
      "execution_count": 38,
      "outputs": []
    },
    {
      "cell_type": "code",
      "source": [
        "points_rdd"
      ],
      "metadata": {
        "colab": {
          "base_uri": "https://localhost:8080/"
        },
        "id": "o201QugEjU9J",
        "outputId": "a2a07c87-ee1f-421a-a7bf-f5d616e796a9"
      },
      "execution_count": 39,
      "outputs": [
        {
          "output_type": "execute_result",
          "data": {
            "text/plain": [
              "<sedona.core.SpatialRDD.spatial_rdd.SpatialRDD at 0x7f47e43ced60>"
            ]
          },
          "metadata": {},
          "execution_count": 39
        }
      ]
    },
    {
      "cell_type": "code",
      "source": [
        "from sedona.core.enums import GridType, IndexType\n",
        "from sedona.utils.adapter import Adapter\n",
        "\n",
        "points_rdd.analyze()"
      ],
      "metadata": {
        "colab": {
          "base_uri": "https://localhost:8080/"
        },
        "id": "Q7xfqsILjWdc",
        "outputId": "f8de1a03-8ab7-4f19-93fa-88c15609252f"
      },
      "execution_count": 40,
      "outputs": [
        {
          "output_type": "execute_result",
          "data": {
            "text/plain": [
              "True"
            ]
          },
          "metadata": {},
          "execution_count": 40
        }
      ]
    },
    {
      "cell_type": "code",
      "source": [
        "len = 100000"
      ],
      "metadata": {
        "id": "lUC95lnAjYVG"
      },
      "execution_count": 41,
      "outputs": []
    },
    {
      "cell_type": "code",
      "source": [
        "points_rdd.spatialPartitioning(GridType.QUADTREE)"
      ],
      "metadata": {
        "colab": {
          "base_uri": "https://localhost:8080/"
        },
        "id": "05cvmJ7Fjhrc",
        "outputId": "d6ecc7f1-bae9-434c-f2a8-46f64a90e75e"
      },
      "execution_count": 42,
      "outputs": [
        {
          "output_type": "execute_result",
          "data": {
            "text/plain": [
              "True"
            ]
          },
          "metadata": {},
          "execution_count": 42
        }
      ]
    },
    {
      "cell_type": "code",
      "source": [
        "import time\n",
        "from sedona.core.geom.envelope import Envelope\n",
        "from shapely.geometry import Polygon\n",
        "from sedona.core.spatialOperator import RangeQuery\n",
        "\n",
        "# polygon = open(DATA_PATH + \"/knn_polygon.tsv\", \"r\").read()\n",
        "# shape = wkt.loads(polygon)\n",
        "# coords = np.dstack(shape.boundary.xy).tolist()[0][:-1]\n",
        "\n",
        "query_envelope = Envelope(-85.01, -60.01, 34.01, 50.01)\n",
        "# query_envelope = Polygon(coords)\n",
        "\n",
        "for i in range(3):\n",
        "  if i == 0:\n",
        "    print(\"'No Index'\")\n",
        "    using_index = False\n",
        "  elif i == 1:\n",
        "    print(\"'R-Tree Index'\")\n",
        "    # using R-tree index\n",
        "    using_index = True\n",
        "\n",
        "    build_on_spatial_partitioned_rdd = False ## Set to TRUE only if run join query\n",
        "    points_rdd.buildIndex(IndexType.RTREE, build_on_spatial_partitioned_rdd)\n",
        "  elif i == 2:\n",
        "    print(\"'Quad-Tree Index'\")\n",
        "    # using Quad-tree index\n",
        "    using_index = True\n",
        "\n",
        "    build_on_spatial_partitioned_rdd = False ## Set to TRUE only if run join query\n",
        "    points_rdd.buildIndex(IndexType.QUADTREE, build_on_spatial_partitioned_rdd)\n",
        "\n",
        "\n",
        "  print(\"'n,time(s)'\")\n",
        "  s = time.time()\n",
        "  result = RangeQuery.SpatialRangeQuery(points_rdd, query_envelope, True, using_index)\n",
        "  result.collect()\n",
        "  d = time.time() - s\n",
        "  print(\"'\" + str(len) + \",\" + str(round(d, 3)) + \"'\")"
      ],
      "metadata": {
        "colab": {
          "base_uri": "https://localhost:8080/"
        },
        "id": "CrJ6t3cDjkZG",
        "outputId": "1f2358aa-af6a-40d0-a408-f7516d2e5d9a"
      },
      "execution_count": 43,
      "outputs": [
        {
          "output_type": "stream",
          "name": "stdout",
          "text": [
            "'No Index'\n",
            "'n,time(s)'\n",
            "'100000,0.388'\n",
            "'R-Tree Index'\n",
            "'n,time(s)'\n",
            "'100000,0.622'\n",
            "'Quad-Tree Index'\n",
            "'n,time(s)'\n",
            "'100000,0.554'\n"
          ]
        }
      ]
    },
    {
      "cell_type": "markdown",
      "source": [
        "### Polygons"
      ],
      "metadata": {
        "id": "iGndZyTARyN5"
      }
    },
    {
      "cell_type": "code",
      "source": [
        "polygon_rdd = WktReader.readToGeometryRDD(sc, DATA_PATH + '/all_source_100K.wkt', 1, True, False)"
      ],
      "metadata": {
        "id": "le1IBYIAR2fQ"
      },
      "execution_count": 8,
      "outputs": []
    },
    {
      "cell_type": "code",
      "source": [
        "polygon_rdd"
      ],
      "metadata": {
        "colab": {
          "base_uri": "https://localhost:8080/"
        },
        "id": "kln9PmaRSHZX",
        "outputId": "c98a047a-87fe-4a77-fd48-8b114e4c438b"
      },
      "execution_count": 9,
      "outputs": [
        {
          "output_type": "execute_result",
          "data": {
            "text/plain": [
              "<sedona.core.SpatialRDD.spatial_rdd.SpatialRDD at 0x7f567f924eb0>"
            ]
          },
          "metadata": {},
          "execution_count": 9
        }
      ]
    },
    {
      "cell_type": "code",
      "source": [
        "from sedona.core.enums import GridType, IndexType\n",
        "from sedona.utils.adapter import Adapter\n",
        "\n",
        "polygon_rdd.analyze()"
      ],
      "metadata": {
        "colab": {
          "base_uri": "https://localhost:8080/"
        },
        "id": "n8jEPoNWSHeZ",
        "outputId": "581db281-6204-4a93-b4ab-5dd6bbbd2d1d"
      },
      "execution_count": 10,
      "outputs": [
        {
          "output_type": "execute_result",
          "data": {
            "text/plain": [
              "True"
            ]
          },
          "metadata": {},
          "execution_count": 10
        }
      ]
    },
    {
      "cell_type": "code",
      "source": [
        "len = 100000"
      ],
      "metadata": {
        "id": "0DypdVtTSLua"
      },
      "execution_count": 11,
      "outputs": []
    },
    {
      "cell_type": "code",
      "source": [
        "polygon_rdd.spatialPartitioning(GridType.KDBTREE )"
      ],
      "metadata": {
        "colab": {
          "base_uri": "https://localhost:8080/"
        },
        "id": "syaEXbKrSSjr",
        "outputId": "dc1c9c20-9da8-42fc-a3fc-860fd05c0b39"
      },
      "execution_count": 12,
      "outputs": [
        {
          "output_type": "execute_result",
          "data": {
            "text/plain": [
              "True"
            ]
          },
          "metadata": {},
          "execution_count": 12
        }
      ]
    },
    {
      "cell_type": "code",
      "source": [
        "import time\n",
        "from sedona.core.geom.envelope import Envelope\n",
        "from shapely.geometry import Polygon\n",
        "from sedona.core.spatialOperator import RangeQuery\n",
        "\n",
        "# polygon = open(DATA_PATH + \"/knn_polygon.tsv\", \"r\").read()\n",
        "# shape = wkt.loads(polygon)\n",
        "# coords = np.dstack(shape.boundary.xy).tolist()[0][:-1]\n",
        "\n",
        "query_envelope = Envelope(-85.01, -60.01, 34.01, 50.01)\n",
        "# query_envelope = Polygon(coords)\n",
        "\n",
        "for i in range(3):\n",
        "  if i == 0:\n",
        "    print(\"'No Index'\")\n",
        "    using_index = False\n",
        "  elif i == 1:\n",
        "    print(\"'R-Tree Index'\")\n",
        "    # using R-tree index\n",
        "    using_index = True\n",
        "\n",
        "    build_on_spatial_partitioned_rdd = False ## Set to TRUE only if run join query\n",
        "    polygon_rdd.buildIndex(IndexType.RTREE, build_on_spatial_partitioned_rdd)\n",
        "  elif i == 2:\n",
        "    print(\"'Quad-Tree Index'\")\n",
        "    # using Quad-tree index\n",
        "    using_index = True\n",
        "\n",
        "    build_on_spatial_partitioned_rdd = False ## Set to TRUE only if run join query\n",
        "    polygon_rdd.buildIndex(IndexType.QUADTREE, build_on_spatial_partitioned_rdd)\n",
        "\n",
        "\n",
        "  print(\"'n,time(s)'\")\n",
        "  s = time.time()\n",
        "  result = RangeQuery.SpatialRangeQuery(polygon_rdd, query_envelope, True, using_index)\n",
        "  result.collect()\n",
        "  d = time.time() - s\n",
        "  print(\"'\" + str(len) + \",\" + str(round(d, 3)) + \"'\")"
      ],
      "metadata": {
        "colab": {
          "base_uri": "https://localhost:8080/"
        },
        "id": "fJE0D-kZSVDz",
        "outputId": "f172a5ec-5926-4aee-f11a-ce2aabec3053"
      },
      "execution_count": 13,
      "outputs": [
        {
          "output_type": "stream",
          "name": "stderr",
          "text": [
            "/usr/local/lib/python3.8/dist-packages/sedona/core/geom/envelope.py:27: ShapelyDeprecationWarning: Setting custom attributes on geometry objects is deprecated, and will raise an AttributeError in Shapely 2.0\n",
            "  self.minx = minx\n",
            "/usr/local/lib/python3.8/dist-packages/sedona/core/geom/envelope.py:28: ShapelyDeprecationWarning: Setting custom attributes on geometry objects is deprecated, and will raise an AttributeError in Shapely 2.0\n",
            "  self.maxx = maxx\n",
            "/usr/local/lib/python3.8/dist-packages/sedona/core/geom/envelope.py:29: ShapelyDeprecationWarning: Setting custom attributes on geometry objects is deprecated, and will raise an AttributeError in Shapely 2.0\n",
            "  self.miny = miny\n",
            "/usr/local/lib/python3.8/dist-packages/sedona/core/geom/envelope.py:30: ShapelyDeprecationWarning: Setting custom attributes on geometry objects is deprecated, and will raise an AttributeError in Shapely 2.0\n",
            "  self.maxy = maxy\n"
          ]
        },
        {
          "output_type": "stream",
          "name": "stdout",
          "text": [
            "'No Index'\n",
            "'n,time(s)'\n",
            "'100000,275.644'\n",
            "'R-Tree Index'\n",
            "'n,time(s)'\n",
            "'100000,255.524'\n",
            "'Quad-Tree Index'\n",
            "'n,time(s)'\n",
            "'100000,261.299'\n"
          ]
        }
      ]
    }
  ]
}